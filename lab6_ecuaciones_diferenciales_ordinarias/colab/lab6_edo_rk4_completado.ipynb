{
 "cells": [
  {
   "cell_type": "markdown",
   "metadata": {
    "id": "5wzrS2itk_5i"
   },
   "source": [
    "# Metodos Numericos - Laboratorio 6 Ecuaciones Diferenciales Ordinarias\n",
    "\n",
    "Grupo 9\n",
    "\n",
    "Presentado por:\n",
    "\n",
    "**Juan Diego Rozo Álvarez - Universidad Nacional de Colombia**\n",
    "\n",
    "**Juan Pablo Gómez Cristancho - Universidad Nacional de Colombia**\n",
    "\n",
    "---\n",
    "En este laboratorio se hará uso de métodos numericos para aproximas soluciones numéricas a Ecuaciones Diferenciales Ordinarias en problemas de contornos por medio de métodos como el **Método del Disparo Lineal** y el **Método de las Diferencias Finitas**\n",
    "\n",
    "La implementación de estos metodos será realizada en su totalidad haciendo el uso en Python.\n",
    "\n",
    "A continuación se explica la estructura del documento en Collab.\n",
    "\n",
    "* Definicion de librerias.\n",
    "* Definicion de getTabla para imprimir los datos almacenados.\n",
    "* Definicion del método del Disparo Lineal y sus derivados.\n",
    "* Implementacion del método disparo_main(args) y sus derivados.\n",
    "* Definicion del método de Diferencias Finitas   derivados.\n",
    "* Implementacion del metodo main(args) y derivados."
   ]
  },
  {
   "cell_type": "code",
   "execution_count": 2,
   "metadata": {
    "id": "-p5sTfqOlCEG"
   },
   "outputs": [],
   "source": [
    "import sympy as sp\n",
    "import numpy as np\n",
    "import matplotlib.pyplot as plt\n"
   ]
  },
  {
   "cell_type": "markdown",
   "metadata": {
    "id": "lsyXOtTLlWuM"
   },
   "source": [
    "# Definición del método del Disparo Lineal\n",
    "---\n",
    "El método del disparo lineal transforma un problema de contorno para una EDO de segundo orden\n",
    "en un conjunto de problemas de valor inicial que se resuelven mediante integración numérica.\n",
    "\n",
    "Dado un problema de contorno de la forma:\n",
    "\n",
    "$$ y''(t) = f(t, y, y'), \\quad y(a) = \\alpha, \\quad y(b) = \\beta $$\n",
    "\n",
    "Se realiza lo siguiente:\n",
    "\n",
    "1. Se reduce la EDO de segundo orden a un sistema de primer orden, con:\n",
    "$$ x = y \\quad \\text{y} \\quad y = y' $$\n",
    "   De esta forma, se obtiene el sistema:\n",
    "   $$ x' = y $$\n",
    "   $$ y' = f(t, x, y) $$\n",
    "\n",
    "2. Se efectúan dos disparos:\n",
    "   - Primer disparo con condición inicial $y'(a) = 0$\n",
    "   - Segundo disparo con condición inicial $y'(a) = 1$\n",
    "\n",
    "3. Se obtiene la combinación lineal de las soluciones para aproximar la solución que cumple\n",
    "   con $y(b) = \\beta$, interpolando linealmente con:\n",
    "\n",
    "$$ s = \\frac{\\beta - y_1(b)}{y_2(b) - y_1(b)} $$\n",
    "\n",
    "Donde $y_1(b)$ y $y_2(b)$ son las soluciones de los disparos en el punto final.\n",
    "La solución final se reconstruye como:\n",
    "\n",
    "$$ y(t) = x_1(t) + s (x_2(t) - x_1(t)) $$\n",
    "$$ y'(t) = y_1(t) + s (y_2(t) - y_1(t)) $$\n",
    "\n",
    "Este método requiere resolver dos veces el sistema usando un método como Runge-Kutta."
   ]
  },
  {
   "cell_type": "code",
   "execution_count": 1,
   "metadata": {
    "id": "KAcG26j0lYuG"
   },
   "outputs": [],
   "source": [
    "# Definición del main para el problema de contorno por Disparo Lineal\n",
    "---\n",
    "En esta sección se implementa la resolución del problema de contorno mediante el método del disparo lineal.\n",
    "\n",
    "Se definen los siguientes elementos:\n",
    "- La ecuación diferencial de segundo orden, en formato compatible con `EDOsuperior`.\n",
    "- Las condiciones de frontera: $y(a) = \\alpha$ y $y(b) = \\beta$.\n",
    "- El intervalo $[a, b]$ y el paso de integración $h$.\n",
    "\n",
    "Se construye una instancia de la clase `ShootLineal`, que internamente:\n",
    "- Utiliza la clase `EDOsuperior` para convertir la EDO de segundo orden en un sistema de primer orden.\n",
    "- Aplica dos disparos usando `y'(a) = 0` y `y'(a) = 1`.\n",
    "- Calcula la combinación lineal de ambas soluciones para cumplir con la condición final $y(b) = \\beta$.\n",
    "\n",
    "Finalmente, el resultado se presenta en forma tabular, incluyendo los valores de $t$, $y(t)$ y $y'(t)$."
   ]
  },
  {
   "cell_type": "markdown",
   "metadata": {
    "id": "Mz790Gl9lgS0"
   },
   "source": [
    "# Definición del método del Disparo Lineal\n",
    "---\n",
    "blabla"
   ]
  },
  {
   "cell_type": "code",
   "execution_count": 7,
   "metadata": {
    "id": "qyjzL7iqlqSs"
   },
   "outputs": [],
   "source": [
    "class RungeKuttaSystem:\n",
    "    '''\n",
    "    Implementa el método de Runge-Kutta de orden 4 para resolver sistemas de EDOs de primer orden\n",
    "    de la forma:\n",
    "\n",
    "            dx/dt = f(t, x, y)\n",
    "            dy/dt = g(t, x, y)\n",
    "\n",
    "    Requiere funciones f y g como strings, así como condiciones iniciales para x y y.\n",
    "    '''\n",
    "    def __init__(self,function1:str, function2:str, interval:tuple, h_steps:float,x_0:float, y_0:float ):\n",
    "        \"\"\"\n",
    "        Inicializa el sistema con las funciones diferenciales y condiciones iniciales.\n",
    "\n",
    "        Args:\n",
    "            function1 (str): Expresión de dx/dt = f(t, x, y).\n",
    "            function2 (str): Expresión de dy/dt = g(t, x, y).\n",
    "            interval (tuple): Intervalo de integración (a, b).\n",
    "            h_steps (float): Paso de integración h.\n",
    "            x_0 (float): Valor inicial de x en t = a.\n",
    "            y_0 (float): Valor inicial de y en t = a.\n",
    "        \"\"\"\n",
    "        self.expr1=function1\n",
    "        self.expr2=function2\n",
    "\n",
    "        t,x,y = sp.symbols('t x y')\n",
    "        self.diff_eval_function1=sp.lambdify((t, x, y), self.expr1)\n",
    "        self.diff_eval_function2=sp.lambdify((t, x, y), self.expr2)\n",
    "\n",
    "        self.x_0=x_0\n",
    "        self.y_0=y_0\n",
    "\n",
    "        self.h=h_steps\n",
    "        self.a,self.b=interval\n",
    "\n",
    "        self.M_subintervals=int((self.b-self.a)/self.h)\n",
    "\n",
    "\n",
    "    def set_h(self,h):\n",
    "        \"\"\"\n",
    "        Permite actualizar el paso de integración h y recalcula el número de subintervalos.\n",
    "\n",
    "        Args:\n",
    "            h (float): Nuevo paso de integración.\n",
    "        \"\"\"\n",
    "        self.h=h\n",
    "        self.M_subintervals=int((self.b-self.a)/self.h)\n",
    "\n",
    "    def solve_by_rk4(self):\n",
    "        \"\"\"\n",
    "        Resuelve el sistema de EDOs mediante el método de Runge-Kutta de orden 4 (RK4).\n",
    "\n",
    "        Returns:\n",
    "            dict: Un diccionario con las listas:\n",
    "                - \"k\": índices de iteración\n",
    "                - \"t_k\": valores de t\n",
    "                - \"x_k\": aproximaciones de x(t)\n",
    "                - \"y_k\": aproximaciones de y(t)\n",
    "        \"\"\"\n",
    "        function1=self.diff_eval_function1\n",
    "        function2=self.diff_eval_function2\n",
    "\n",
    "        h=self.h\n",
    "\n",
    "        x_k=self.x_0\n",
    "        y_k=self.y_0\n",
    "\n",
    "        t_k_list=[(self.a + k*self.h) for k in range(self.M_subintervals+1)]\n",
    "        k_iterations=list(range(len(t_k_list)))\n",
    "\n",
    "        results={\"k\":k_iterations, \"t_k\":t_k_list, \"x_k\":[], \"y_k\":[]}\n",
    "\n",
    "        for t_k in t_k_list:\n",
    "\n",
    "            # aplicacion iterativa de las formulas para sistemas acoplados\n",
    "            f_1, g_1 = (function1(t_k, x_k, y_k),                           function2(t_k, x_k, y_k))\n",
    "            f_2, g_2 = (function1(t_k+h/2, x_k+(h/2)*f_1, y_k+(h/2)*g_1),   function2(t_k+h/2, x_k+(h/2)*f_1, y_k+(h/2)*g_1))\n",
    "            f_3, g_3 = (function1(t_k+h/2, x_k+(h/2)*f_2, y_k+(h/2)*g_2),   function2(t_k+h/2, x_k+(h/2)*f_2, y_k+(h/2)*g_2))\n",
    "            f_4, g_4 = (function1(t_k+h, x_k+h*f_3, y_k+h*g_3),             function2(t_k+h, x_k+h*f_3, y_k+h*g_3))\n",
    "\n",
    "            x_k1 = x_k + (f_1+2*f_2+2*f_3+f_4)*h/6\n",
    "            y_k1 = y_k + (g_1+2*g_2+2*g_3+g_4)*h/6\n",
    "\n",
    "            results[\"x_k\"].append(x_k)\n",
    "            results[\"y_k\"].append(y_k)\n",
    "\n",
    "            x_k=x_k1\n",
    "            y_k=y_k1                   #actualiza el valor de x_k, y_k\n",
    "\n",
    "        return results\n",
    "\n",
    "\n",
    "class EDOsuperior:\n",
    "    '''\n",
    "    Recibe una ecuacion mx''(t) + cx'(t) + kx'(t) - g(t) = 0\n",
    "    y despeja x''(t).\n",
    "\n",
    "    La entrada de la ecuación debe seguir un formato.\n",
    "\n",
    "    ddx = x''(t)\n",
    "    dx = x'(t)\n",
    "    x = x(t)\n",
    "\n",
    "    Por lo tanto, la entrada en string para una ecuación diferencial igualada a sero es:\n",
    "    input>> m*ddx + c*dx + k*x - g\n",
    "    Nota: m, c, k, g; pueden ser constantes o funciones de t.\n",
    "\n",
    "    '''\n",
    "\n",
    "    def __init__(self, ecuation:str):\n",
    "        \"\"\"\n",
    "        Inicializa la ecuación diferencial de segundo orden.\n",
    "\n",
    "        Args:\n",
    "            ecuation (str): Ecuación en notación simbólica con 'ddx', 'dx' y 'x'.\n",
    "        \"\"\"\n",
    "        self.ecuation=ecuation\n",
    "\n",
    "    def _clear_second_derivate(self):\n",
    "        \"\"\"\n",
    "        Despeja la segunda derivada (ddx) de la ecuación.\n",
    "\n",
    "        Returns:\n",
    "            str: Expresión de ddx despejada, como string.\n",
    "        \"\"\"\n",
    "        ecuation=self.ecuation\n",
    "        ddx = sp.Symbol(\"ddx\")\n",
    "\n",
    "        solution_second_derivate=str(sp.solve(ecuation, ddx)[0])\n",
    "        return solution_second_derivate\n",
    "\n",
    "    def _do_substitution(self):\n",
    "        \"\"\"\n",
    "        Sustituye dx por y en la expresión despejada de ddx, para reducir el orden de la EDO.\n",
    "\n",
    "        Returns:\n",
    "            str: Ecuación reducida con dx → y.\n",
    "        \"\"\"\n",
    "\n",
    "        substitute_ecuation=self._clear_second_derivate().replace(\"dx\",\"y\")\n",
    "        return substitute_ecuation\n",
    "\n",
    "    def solve(self,interval:tuple, h_steps:float, x_0:float, y_0:float):\n",
    "\n",
    "        ecuation_replaced=self._do_substitution()\n",
    "        system=RungeKuttaSystem(\"y\", ecuation_replaced, interval, h_steps, x_0, y_0)\n",
    "        results=system.solve_by_rk4()\n",
    "        return results\n",
    "\n",
    "\n",
    "\n",
    "class disparo_lineal:\n",
    "  #FALTA ESTA CLASE\n",
    "  pass\n"
   ]
  },
  {
   "cell_type": "markdown",
   "metadata": {
    "id": "qFZlxK4WnWSJ"
   },
   "source": [
    "# Definición del main para el problema de contorno por Disparo Lineal\n",
    "---\n",
    "blablabla"
   ]
  },
  {
   "cell_type": "code",
   "execution_count": 9,
   "metadata": {
    "id": "HpfAPFR0ne2Q"
   },
   "outputs": [],
   "source": [
    "def user_input():\n",
    "  pass\n",
    "\n",
    "def main():\n",
    "  pass\n"
   ]
  },
  {
   "cell_type": "markdown",
   "metadata": {
    "id": "rF7e8-QbnoGS"
   },
   "source": [
    "Se ejecuta el main"
   ]
  },
  {
   "cell_type": "code",
   "execution_count": 10,
   "metadata": {
    "id": "ultx-MURnqnR"
   },
   "outputs": [],
   "source": [
    "main()"
   ]
  },
  {
   "cell_type": "markdown",
   "metadata": {
    "id": "9vOiOPIknt7Y"
   },
   "source": [
    "# Definición del método de Diferencias Finitas\n",
    "---"
   ]
  },
  {
   "cell_type": "code",
   "execution_count": null,
   "metadata": {
    "id": "sURgxNmbn4iT"
   },
   "outputs": [],
   "source": []
  },
  {
   "cell_type": "markdown",
   "metadata": {
    "id": "sTUJQjtHn7i7"
   },
   "source": [
    "# Definición del main para el problema de contorno por Diferencias Finitas\n",
    "---\n",
    "blablabla"
   ]
  },
  {
   "cell_type": "code",
   "execution_count": null,
   "metadata": {
    "id": "fMMHOl4noDbs"
   },
   "outputs": [],
   "source": []
  }
 ],
 "metadata": {
  "colab": {
   "provenance": []
  },
  "kernelspec": {
   "display_name": "Python 3",
   "name": "python3"
  },
  "language_info": {
   "name": "python"
  }
 },
 "nbformat": 4,
 "nbformat_minor": 0
}
