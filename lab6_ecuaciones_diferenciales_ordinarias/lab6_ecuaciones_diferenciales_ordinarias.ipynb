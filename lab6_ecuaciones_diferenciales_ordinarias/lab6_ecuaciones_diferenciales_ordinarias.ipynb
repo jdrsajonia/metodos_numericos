{
  "nbformat": 4,
  "nbformat_minor": 0,
  "metadata": {
    "colab": {
      "provenance": []
    },
    "kernelspec": {
      "name": "python3",
      "display_name": "Python 3"
    },
    "language_info": {
      "name": "python"
    }
  },
  "cells": [
    {
      "cell_type": "markdown",
      "source": [
        "# Metodos Numericos - Laboratorio 6 Ecuaciones Diferenciales Ordinarias\n",
        "\n",
        "Grupo 9\n",
        "\n",
        "Presentado por:\n",
        "\n",
        "**Juan Diego Rozo Álvarez - Universidad Nacional de Colombia**\n",
        "\n",
        "**Juan Pablo Gómez Cristancho - Universidad Nacional de Colombia**\n",
        "\n",
        "---\n",
        "En este laboratorio se hará uso de métodos numericos para aproximas soluciones numéricas a Ecuaciones Diferenciales Ordinarias en problemas de contornos por medio de métodos como el **Método del Disparo Lineal** y el **Método de las Diferencias Finitas**\n",
        "\n",
        "La implementación de estos metodos será realizada en su totalidad haciendo el uso en Python.\n",
        "\n",
        "A continuación se explica la estructura del documento en Collab.\n",
        "\n",
        "* Definicion de librerias.\n",
        "* Definicion de getTabla para imprimir los datos almacenados.\n",
        "* Definicion del método del Disparo Lineal y sus derivados.\n",
        "* Implementacion del método disparo_main(args) y sus derivados.\n",
        "* Definicion del método de Diferencias Finitas   derivados.\n",
        "* Implementacion del metodo main(args) y derivados."
      ],
      "metadata": {
        "id": "5wzrS2itk_5i"
      }
    },
    {
      "cell_type": "code",
      "source": [
        "import sympy as sp\n",
        "import numpy as np\n",
        "import matplotlib.pyplot as plt\n"
      ],
      "metadata": {
        "id": "-p5sTfqOlCEG"
      },
      "execution_count": 2,
      "outputs": []
    },
    {
      "cell_type": "markdown",
      "source": [
        "# Definición de getTabla\n",
        "---\n",
        "\n",
        "\n",
        "`getTabla(args)` es una función de autoria propia del grupo, la cual ayuda a almacenar los datos recopilados de un metodo en formato de un diccionario en Python. La razon por la cual se realiza esta implementacion se debe a dos factores:\n",
        "\n",
        "\n",
        "1.   **Legibilidad:** Al usar un diccionario, se puede puede representar cada columna de información como una llave con un nombre intuitivo la cual tiene relacionado un valor del tipo Lista, en lugar de usar una lista de listas, lo cual hace que el codigo sea ilegible el código.\n",
        "2.   **Complejidad algorítmica:** Al ser un diccionario, la búsqueda de una llave es siempre **O(1)**, dada la naturaleza de la estructura Hash.\n",
        "\n",
        "A continuación, se muestrá el codigo de `getTabla(args)`"
      ],
      "metadata": {
        "id": "lsyXOtTLlWuM"
      }
    },
    {
      "cell_type": "code",
      "source": [
        "def getTabla(heads_data,setTitle=\"\",character=\" \"):\n",
        "    '''\n",
        "\n",
        "    Genera una tabla en formato de texto a partir de un diccionario de listas.\n",
        "\n",
        "    Args:\n",
        "        heads_data (dict): Llaves como encabezados y listas como columnas de datos.\n",
        "        setTitle (str): Titulo de la tabla (opcional).\n",
        "        character (str): Caracter de relleno para alinear texto (opcional).\n",
        "\n",
        "    Returns:\n",
        "        str: Representacion en string de la tabla formateada.\n",
        "\n",
        "    Variables:\n",
        "        table (str): Acumulador de texto para construir la tabla final.\n",
        "        long_elements_x (dict): Guarda el ancho maximo necesario para cada columna.\n",
        "        first_head (str): Primera llave del diccionario, usada para conocer el numero de filas.\n",
        "        long_tabla_y (int): Altura de la tabla (numero de filas).\n",
        "        long_tabla_x (int): Ancho total de la tabla (sumatoria de anchos de columnas).\n",
        "        enmarcate (int): Ancho total de la tabla con bordes, usado para formatear y centrar.\n",
        "\n",
        "\n",
        "    Nota:\n",
        "        Todas las listas deben tener la misma longitud para evitar errores.\n",
        "\n",
        "\n",
        "    '''\n",
        "    table=\"\"\n",
        "    long_elements_x=dict()\n",
        "    first_head=next(iter(heads_data))\n",
        "    long_tabla_y=len(heads_data[first_head])\n",
        "\n",
        "    if (long_tabla_y==0):\n",
        "        return \"Tabla sin datos\"\n",
        "\n",
        "    if len(character)>1: #si character son varios digitos, agarra el primero\n",
        "        character=character[:1]\n",
        "\n",
        "    for head in heads_data:\n",
        "        # Este for consigue los mayores anchos necesarios para cada columna de la tabla, para mantener un formato\n",
        "        long_element_x=max(map(str,heads_data[head]),key=len)\n",
        "        long_head=len(head)\n",
        "        long_data=len(long_element_x)\n",
        "        long_elements_x[head]=max(long_head,long_data)\n",
        "\n",
        "    long_tabla_x=sum(long_elements_x.values())\n",
        "    enmarcate=long_tabla_x+2*len(heads_data)+len(heads_data)+1\n",
        "    title=setTitle.center(enmarcate)\n",
        "\n",
        "    table +=\"\\n\"+title+\"\\n\"+\"=\"*enmarcate+\"\\n\"+\"|\"\n",
        "\n",
        "    for head in heads_data:\n",
        "        # Este for carga los encabezados del diccionario a la tabla\n",
        "        tabulate=long_elements_x[head]\n",
        "        text_head=str(head).center(tabulate,character)\n",
        "        table+=\" \"+text_head+\" |\"\n",
        "\n",
        "    table+=\"\\n\"+\"=\"*enmarcate+\"\\n\"\n",
        "\n",
        "    for i in range(long_tabla_y):\n",
        "        # Este for carga los datos obtenidos a la tabla\n",
        "        table+=\"|\"\n",
        "        for head in heads_data:\n",
        "            tabulate=long_elements_x[head]\n",
        "            text_data=str(heads_data[head][i]).center(tabulate,character)\n",
        "            table+=\" \"+text_data+\" |\"\n",
        "        table+=\"\\n\"\n",
        "\n",
        "    table+=\"=\"*enmarcate\n",
        "    return table"
      ],
      "metadata": {
        "id": "KAcG26j0lYuG"
      },
      "execution_count": 1,
      "outputs": []
    },
    {
      "cell_type": "markdown",
      "source": [
        "# Definición del método del Disparo Lineal\n",
        "---\n",
        "blabla"
      ],
      "metadata": {
        "id": "Mz790Gl9lgS0"
      }
    },
    {
      "cell_type": "code",
      "source": [
        "class RungeKuttaSystem:\n",
        "    '''\n",
        "    Implementa el método de Runge-Kutta de orden 4 para resolver sistemas de EDOs de primer orden\n",
        "    de la forma:\n",
        "\n",
        "            dx/dt = f(t, x, y)\n",
        "            dy/dt = g(t, x, y)\n",
        "\n",
        "    Requiere funciones f y g como strings, así como condiciones iniciales para x y y.\n",
        "    '''\n",
        "    def __init__(self,function1:str, function2:str, interval:tuple, h_steps:float,x_0:float, y_0:float ):\n",
        "        \"\"\"\n",
        "        Inicializa el sistema con las funciones diferenciales y condiciones iniciales.\n",
        "\n",
        "        Args:\n",
        "            function1 (str): Expresión de dx/dt = f(t, x, y).\n",
        "            function2 (str): Expresión de dy/dt = g(t, x, y).\n",
        "            interval (tuple): Intervalo de integración (a, b).\n",
        "            h_steps (float): Paso de integración h.\n",
        "            x_0 (float): Valor inicial de x en t = a.\n",
        "            y_0 (float): Valor inicial de y en t = a.\n",
        "        \"\"\"\n",
        "        self.expr1=function1\n",
        "        self.expr2=function2\n",
        "\n",
        "        t,x,y = sp.symbols('t x y')\n",
        "        self.diff_eval_function1=sp.lambdify((t, x, y), self.expr1)\n",
        "        self.diff_eval_function2=sp.lambdify((t, x, y), self.expr2)\n",
        "\n",
        "        self.x_0=x_0\n",
        "        self.y_0=y_0\n",
        "\n",
        "        self.h=h_steps\n",
        "        self.a,self.b=interval\n",
        "\n",
        "        self.M_subintervals=int((self.b-self.a)/self.h)\n",
        "\n",
        "\n",
        "    def set_h(self,h):\n",
        "        \"\"\"\n",
        "        Permite actualizar el paso de integración h y recalcula el número de subintervalos.\n",
        "\n",
        "        Args:\n",
        "            h (float): Nuevo paso de integración.\n",
        "        \"\"\"\n",
        "        self.h=h\n",
        "        self.M_subintervals=int((self.b-self.a)/self.h)\n",
        "\n",
        "    def solve_by_rk4(self):\n",
        "        \"\"\"\n",
        "        Resuelve el sistema de EDOs mediante el método de Runge-Kutta de orden 4 (RK4).\n",
        "\n",
        "        Returns:\n",
        "            dict: Un diccionario con las listas:\n",
        "                - \"k\": índices de iteración\n",
        "                - \"t_k\": valores de t\n",
        "                - \"x_k\": aproximaciones de x(t)\n",
        "                - \"y_k\": aproximaciones de y(t)\n",
        "        \"\"\"\n",
        "        function1=self.diff_eval_function1\n",
        "        function2=self.diff_eval_function2\n",
        "\n",
        "        h=self.h\n",
        "\n",
        "        x_k=self.x_0\n",
        "        y_k=self.y_0\n",
        "\n",
        "        t_k_list=[(self.a + k*self.h) for k in range(self.M_subintervals+1)]\n",
        "        k_iterations=list(range(len(t_k_list)))\n",
        "\n",
        "        results={\"k\":k_iterations, \"t_k\":t_k_list, \"x_k\":[], \"y_k\":[]}\n",
        "\n",
        "        for t_k in t_k_list:\n",
        "\n",
        "            # aplicacion iterativa de las formulas para sistemas acoplados\n",
        "            f_1, g_1 = (function1(t_k, x_k, y_k),                           function2(t_k, x_k, y_k))\n",
        "            f_2, g_2 = (function1(t_k+h/2, x_k+(h/2)*f_1, y_k+(h/2)*g_1),   function2(t_k+h/2, x_k+(h/2)*f_1, y_k+(h/2)*g_1))\n",
        "            f_3, g_3 = (function1(t_k+h/2, x_k+(h/2)*f_2, y_k+(h/2)*g_2),   function2(t_k+h/2, x_k+(h/2)*f_2, y_k+(h/2)*g_2))\n",
        "            f_4, g_4 = (function1(t_k+h, x_k+h*f_3, y_k+h*g_3),             function2(t_k+h, x_k+h*f_3, y_k+h*g_3))\n",
        "\n",
        "            x_k1 = x_k + (f_1+2*f_2+2*f_3+f_4)*h/6\n",
        "            y_k1 = y_k + (g_1+2*g_2+2*g_3+g_4)*h/6\n",
        "\n",
        "            results[\"x_k\"].append(x_k)\n",
        "            results[\"y_k\"].append(y_k)\n",
        "\n",
        "            x_k=x_k1\n",
        "            y_k=y_k1                   #actualiza el valor de x_k, y_k\n",
        "\n",
        "        return results\n",
        "\n",
        "\n",
        "class EDOsuperior:\n",
        "    '''\n",
        "    Recibe una ecuacion mx''(t) + cx'(t) + kx'(t) - g(t) = 0\n",
        "    y despeja x''(t).\n",
        "\n",
        "    La entrada de la ecuación debe seguir un formato.\n",
        "\n",
        "    ddx = x''(t)\n",
        "    dx = x'(t)\n",
        "    x = x(t)\n",
        "\n",
        "    Por lo tanto, la entrada en string para una ecuación diferencial igualada a sero es:\n",
        "    input>> m*ddx + c*dx + k*x - g\n",
        "    Nota: m, c, k, g; pueden ser constantes o funciones de t.\n",
        "\n",
        "    '''\n",
        "\n",
        "    def __init__(self, ecuation:str):\n",
        "        \"\"\"\n",
        "        Inicializa la ecuación diferencial de segundo orden.\n",
        "\n",
        "        Args:\n",
        "            ecuation (str): Ecuación en notación simbólica con 'ddx', 'dx' y 'x'.\n",
        "        \"\"\"\n",
        "        self.ecuation=ecuation\n",
        "\n",
        "    def _clear_second_derivate(self):\n",
        "        \"\"\"\n",
        "        Despeja la segunda derivada (ddx) de la ecuación.\n",
        "\n",
        "        Returns:\n",
        "            str: Expresión de ddx despejada, como string.\n",
        "        \"\"\"\n",
        "        ecuation=self.ecuation\n",
        "        ddx = sp.Symbol(\"ddx\")\n",
        "\n",
        "        solution_second_derivate=str(sp.solve(ecuation, ddx)[0])\n",
        "        return solution_second_derivate\n",
        "\n",
        "    def _do_substitution(self):\n",
        "        \"\"\"\n",
        "        Sustituye dx por y en la expresión despejada de ddx, para reducir el orden de la EDO.\n",
        "\n",
        "        Returns:\n",
        "            str: Ecuación reducida con dx → y.\n",
        "        \"\"\"\n",
        "\n",
        "        substitute_ecuation=self._clear_second_derivate().replace(\"dx\",\"y\")\n",
        "        return substitute_ecuation\n",
        "\n",
        "    def solve(self,interval:tuple, h_steps:float, x_0:float, y_0:float):\n",
        "\n",
        "        ecuation_replaced=self._do_substitution()\n",
        "        system=RungeKuttaSystem(\"y\", ecuation_replaced, interval, h_steps, x_0, y_0)\n",
        "        results=system.solve_by_rk4()\n",
        "        return results\n",
        "\n",
        "\n",
        "\n",
        "class disparo_lineal:\n",
        "  #FALTA ESTA CLASE\n",
        "  pass\n"
      ],
      "metadata": {
        "id": "qyjzL7iqlqSs"
      },
      "execution_count": 7,
      "outputs": []
    },
    {
      "cell_type": "markdown",
      "source": [
        "# Definición del main para el problema de contorno por Disparo Lineal\n",
        "---\n",
        "blablabla"
      ],
      "metadata": {
        "id": "qFZlxK4WnWSJ"
      }
    },
    {
      "cell_type": "code",
      "source": [
        "def user_input():\n",
        "  pass\n",
        "\n",
        "def main():\n",
        "  pass\n"
      ],
      "metadata": {
        "id": "HpfAPFR0ne2Q"
      },
      "execution_count": 9,
      "outputs": []
    },
    {
      "cell_type": "markdown",
      "source": [
        "Se ejecuta el main"
      ],
      "metadata": {
        "id": "rF7e8-QbnoGS"
      }
    },
    {
      "cell_type": "code",
      "source": [
        "main()"
      ],
      "metadata": {
        "id": "ultx-MURnqnR"
      },
      "execution_count": 10,
      "outputs": []
    },
    {
      "cell_type": "markdown",
      "source": [
        "# Definición del método de Diferencias Finitas\n",
        "---"
      ],
      "metadata": {
        "id": "9vOiOPIknt7Y"
      }
    },
    {
      "cell_type": "code",
      "source": [],
      "metadata": {
        "id": "sURgxNmbn4iT"
      },
      "execution_count": null,
      "outputs": []
    },
    {
      "cell_type": "markdown",
      "source": [
        "# Definición del main para el problema de contorno por Diferencias Finitas\n",
        "---\n",
        "blablabla"
      ],
      "metadata": {
        "id": "sTUJQjtHn7i7"
      }
    },
    {
      "cell_type": "code",
      "source": [],
      "metadata": {
        "id": "fMMHOl4noDbs"
      },
      "execution_count": null,
      "outputs": []
    }
  ]
}